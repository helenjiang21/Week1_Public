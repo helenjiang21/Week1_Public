{
  "nbformat": 4,
  "nbformat_minor": 0,
  "metadata": {
    "colab": {
      "name": "Debug - support_vector_machine_tester.ipynb",
      "provenance": [],
      "collapsed_sections": []
    },
    "kernelspec": {
      "name": "python3",
      "display_name": "Python 3"
    }
  },
  "cells": [
    {
      "cell_type": "code",
      "metadata": {
        "id": "4CoIF3tQ4iE9",
        "colab_type": "code",
        "colab": {}
      },
      "source": [
        "\"\"\"Creates and evaluates SVM models that predict whether a patient has hypothyroid disease.\"\"\"\n",
        "from itertools import combinations\n",
        "import numpy as np\n",
        "import pandas as pd\n",
        "import matplotlib.pyplot as plt\n",
        "\n",
        "from sklearn.metrics import accuracy_score, roc_auc_score\n",
        "from sklearn.model_selection import train_test_split\n",
        "from sklearn.svm import SVC \n"
      ],
      "execution_count": null,
      "outputs": []
    },
    {
      "cell_type": "code",
      "metadata": {
        "id": "fFStkJvR4tig",
        "colab_type": "code",
        "colab": {}
      },
      "source": [
        "# Read the hypothyroid data into a Pandas dataframe \n",
        "url = \"https://raw.githubusercontent.com/BeaverWorksMedlytics2020/Data_Public/master/ChallengeProjects/Week1/allhypo.train.data.csv\"\n",
        "dataset = pd.read_csv(url) \n"
      ],
      "execution_count": null,
      "outputs": []
    },
    {
      "cell_type": "code",
      "metadata": {
        "id": "2SVj-fWR4vIL",
        "colab_type": "code",
        "colab": {}
      },
      "source": [
        "# Clean up the dataset\n",
        "# Delete an empty column\n",
        "del dataset[\"TBG\"]\n",
        "\n",
        "# Replace \"?\"s with NaNs\n",
        "dataset = dataset.replace(\"?\", np.nan)\n"
      ],
      "execution_count": null,
      "outputs": []
    },
    {
      "cell_type": "code",
      "metadata": {
        "id": "0ebNegQz4xxV",
        "colab_type": "code",
        "colab": {
          "base_uri": "https://localhost:8080/",
          "height": 102
        },
        "outputId": "e6272625-ba4a-4635-9cdf-c426cf5e3d99"
      },
      "source": [
        "# Modify the data to enable model creation through sklearn's SVC\n",
        "# Replace female entries with a zero and male entries with a one\n",
        "dataset['Sex'].replace(\"F\", 0, inplace=True)\n",
        "dataset['Sex'].replace(\"M\", 1, inplace=True)\n",
        "\n",
        "# Replace false entries with a zero and true entries with a one\n",
        "dataset.replace(\"f\", 0, inplace=True)\n",
        "dataset.replace(\"t\", 1, inplace=True)\n",
        "\n",
        "# Remove patient numbers from the data  \n",
        "for patient in range(dataset['class'].shape[0]):\n",
        "  dataset['class'][patient] = dataset['class'][patient].split(\".\")[0]\n",
        "\n",
        "# Condense the target's unique values into binary data\n",
        "dataset['class'].replace('negative', 0, inplace=True)\n",
        "dataset['class'].replace([\"compensated hypothyroid\", \"primary hypothyroid\", \"secondary hypothyroid\"], 1, inplace=True)\n"
      ],
      "execution_count": null,
      "outputs": [
        {
          "output_type": "stream",
          "text": [
            "/usr/local/lib/python3.6/dist-packages/ipykernel_launcher.py:12: SettingWithCopyWarning: \n",
            "A value is trying to be set on a copy of a slice from a DataFrame\n",
            "\n",
            "See the caveats in the documentation: https://pandas.pydata.org/pandas-docs/stable/user_guide/indexing.html#returning-a-view-versus-a-copy\n",
            "  if sys.path[0] == '':\n"
          ],
          "name": "stderr"
        }
      ]
    },
    {
      "cell_type": "code",
      "metadata": {
        "id": "FViBo9t-GaN1",
        "colab_type": "code",
        "colab": {}
      },
      "source": [
        "# Cast numerics to floats (enable modeling)\n",
        "numerics = [\"Age\", \"TSH\", \"T3\", \"TT4\", \"T4u\", \"FTI\"]\n",
        "\n",
        "for numeric in numerics:\n",
        "  dataset[numeric] = dataset[numeric].astype(float)\n",
        "\n",
        "  # Replace NaNs with their respective column's median\n",
        "  dataset[numeric].fillna(dataset[numeric].median(), inplace=True)\n",
        "  \n",
        "# Drop remaining NaN entries from the dataset\n",
        "dataset = dataset.dropna()\n"
      ],
      "execution_count": null,
      "outputs": []
    },
    {
      "cell_type": "code",
      "metadata": {
        "id": "zpLgJ01E5M_C",
        "colab_type": "code",
        "colab": {}
      },
      "source": [
        "# We'll create an 80/20 split of training and testing data\n",
        "test_size = .2\n",
        "\n",
        "# Controls the shuffling applied to the dataframe before applying a split\n",
        "# We'll use a different seed for each model to avoid overfitting\n",
        "seed = 69\n"
      ],
      "execution_count": null,
      "outputs": []
    },
    {
      "cell_type": "code",
      "metadata": {
        "id": "SYwrCUm85Y-r",
        "colab_type": "code",
        "colab": {}
      },
      "source": [
        "# Split the dataset between training data (80%) and testing data (20%)\n",
        "X_train, X_test, y_train, y_test = train_test_split(dataset[['On thyroxine', 'TSH']], dataset[\"class\"], test_size=test_size, random_state=seed)\n",
        "\n",
        "# Create a model with sklearn's SVC\n",
        "svm = SVC(gamma=.5, C=.5)\n",
        "\n",
        "# Train and fit the model with training data\n",
        "svm.fit(X_train, y_train)\n",
        "\n",
        "# Use the model to make a test prediction\n",
        "y_test_pred = svm.predict(X_test)"
      ],
      "execution_count": null,
      "outputs": []
    },
    {
      "cell_type": "code",
      "metadata": {
        "id": "igvZO-5L0yJt",
        "colab_type": "code",
        "colab": {
          "base_uri": "https://localhost:8080/",
          "height": 404
        },
        "outputId": "707386fc-eb08-4728-e20b-91ab7bc965b9"
      },
      "source": [
        "from sklearn import metrics\n",
        "\n",
        "# Calculate the FPR and TPR at varying thresholds (assume label 1 is the \"postive\" class)\n",
        "fpr, tpr, thresholds = metrics.roc_curve(y_test, y_test_pred)\n",
        "\n",
        "# Calculate the area under the ROC curve\n",
        "roc_auc = metrics.auc(fpr, tpr)\n",
        "\n",
        "# Plot the ROC curve\n",
        "plt.figure(figsize=(6,6))\n",
        "lw = 2\n",
        "plt.plot(fpr, tpr, color='darkorange',\n",
        "         lw=lw, label='ROC curve (area = %0.2f)' % roc_auc)\n",
        "plt.plot([0, 1], [0, 1], color='navy', lw=lw, linestyle='--')\n",
        "plt.xlim([0.0, 1.0])\n",
        "plt.ylim([0.0, 1.0])\n",
        "plt.xlabel('False Positive Rate')\n",
        "plt.ylabel('True Positive Rate')\n",
        "plt.title('Receiver operating characteristic')\n",
        "plt.legend(loc=\"lower right\")\n",
        "plt.show()"
      ],
      "execution_count": null,
      "outputs": [
        {
          "output_type": "display_data",
          "data": {
            "image/png": "[encoded data removed]",
            "text/plain": [
              "<Figure size 432x432 with 1 Axes>"
            ]
          },
          "metadata": {
            "tags": [],
            "needs_background": "light"
          }
        }
      ]
    },
    {
      "cell_type": "markdown",
      "metadata": {
        "id": "yh58mHZV4hZ3",
        "colab_type": "text"
      },
      "source": [
        ""
      ]
    }
  ]
}